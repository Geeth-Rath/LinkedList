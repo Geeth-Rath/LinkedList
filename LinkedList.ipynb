{
  "nbformat": 4,
  "nbformat_minor": 0,
  "metadata": {
    "colab": {
      "provenance": [],
      "authorship_tag": "ABX9TyNTiec6nftbpueRVXroxP2S",
      "include_colab_link": true
    },
    "kernelspec": {
      "name": "python3",
      "display_name": "Python 3"
    },
    "language_info": {
      "name": "python"
    }
  },
  "cells": [
    {
      "cell_type": "markdown",
      "metadata": {
        "id": "view-in-github",
        "colab_type": "text"
      },
      "source": [
        "<a href=\"https://colab.research.google.com/github/Geeth-Rath/LinkedList/blob/linked-main/LinkedList.ipynb\" target=\"_parent\"><img src=\"https://colab.research.google.com/assets/colab-badge.svg\" alt=\"Open In Colab\"/></a>"
      ]
    },
    {
      "cell_type": "code",
      "execution_count": null,
      "metadata": {
        "id": "AXmNpkpiWymz"
      },
      "outputs": [],
      "source": [
        "class Node:\n",
        "  data = None;\n",
        "  next = None;\n",
        "  def __init__(self, data):\n",
        "    self.data = data;\n",
        "\n"
      ]
    },
    {
      "cell_type": "markdown",
      "source": [
        "counting No. Nodes"
      ],
      "metadata": {
        "id": "XFm2CvPblv74"
      }
    },
    {
      "cell_type": "code",
      "source": [
        "def countNode(head):\n",
        "  count = 0\n",
        "  current = head;\n",
        "  if head == None:\n",
        "    return count\n",
        "\n",
        "  else:\n",
        "    while current != None :\n",
        "      count+=1;\n",
        "      current = current.next;\n",
        "    return count;\n",
        "\n",
        "# != --> is not"
      ],
      "metadata": {
        "id": "Na55bJNLb2LL"
      },
      "execution_count": null,
      "outputs": []
    },
    {
      "cell_type": "markdown",
      "source": [
        "insert a node"
      ],
      "metadata": {
        "id": "LvYjdBzol1bp"
      }
    },
    {
      "cell_type": "code",
      "source": [
        "def insertNode(preNode, data):\n",
        "  if preNode is None:\n",
        "    return\n",
        "  NewNode = Node(data)\n",
        "  preNode.next = NewNode\n",
        "  NewNode.next = preNode.next\n"
      ],
      "metadata": {
        "id": "a8UGZte2luwL"
      },
      "execution_count": null,
      "outputs": []
    },
    {
      "cell_type": "markdown",
      "source": [
        "delete a node"
      ],
      "metadata": {
        "id": "1geDXNtBrjog"
      }
    },
    {
      "cell_type": "code",
      "source": [
        "def deleteNode (head, data):\n",
        "  current = head\n",
        "  prev = None\n",
        "\n",
        "  while  current is not None:\n",
        "    prev = current\n",
        "    current = current.next\n",
        "\n",
        "    if current.data == data:\n",
        "\n",
        "      prev.next = current.next\n",
        "      return current\n",
        "\n"
      ],
      "metadata": {
        "id": "dkOACl_crhyJ"
      },
      "execution_count": 12,
      "outputs": []
    }
  ]
}